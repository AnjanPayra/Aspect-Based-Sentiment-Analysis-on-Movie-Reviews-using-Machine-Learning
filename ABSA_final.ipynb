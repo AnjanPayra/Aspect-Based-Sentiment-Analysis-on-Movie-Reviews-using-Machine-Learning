{
  "nbformat": 4,
  "nbformat_minor": 0,
  "metadata": {
    "colab": {
      "provenance": []
    },
    "kernelspec": {
      "name": "python3",
      "display_name": "Python 3"
    },
    "language_info": {
      "name": "python"
    }
  },
  "cells": [
    {
      "cell_type": "markdown",
      "source": [
        "## IMPORTS"
      ],
      "metadata": {
        "id": "UsxlwmlY7rt8"
      }
    },
    {
      "cell_type": "code",
      "execution_count": 1,
      "metadata": {
        "colab": {
          "base_uri": "https://localhost:8080/"
        },
        "id": "3cwBxMWm6_ni",
        "outputId": "72e2e496-1dc6-439b-da16-c000d2d66803"
      },
      "outputs": [
        {
          "output_type": "stream",
          "name": "stderr",
          "text": [
            "[nltk_data] Downloading package punkt_tab to /root/nltk_data...\n",
            "[nltk_data]   Unzipping tokenizers/punkt_tab.zip.\n",
            "[nltk_data] Downloading package stopwords to /root/nltk_data...\n",
            "[nltk_data]   Unzipping corpora/stopwords.zip.\n",
            "[nltk_data] Downloading package punkt to /root/nltk_data...\n",
            "[nltk_data]   Unzipping tokenizers/punkt.zip.\n"
          ]
        }
      ],
      "source": [
        "import nltk\n",
        "nltk.download('punkt_tab')\n",
        "nltk.download('stopwords')\n",
        "nltk.download('punkt')\n",
        "import pandas as pd\n",
        "import matplotlib.pyplot as plt\n",
        "import seaborn as sns\n",
        "import plotly.express as px\n",
        "from matplotlib import style\n",
        "style.use('ggplot')\n",
        "import re\n",
        "from nltk.tokenize import word_tokenize\n",
        "from nltk.stem import PorterStemmer\n",
        "from nltk.corpus import stopwords\n",
        "stop_words = set(stopwords.words('english'))\n",
        "from sklearn.feature_extraction.text import TfidfVectorizer\n",
        "from sklearn.model_selection import train_test_split\n",
        "from sklearn.ensemble import VotingClassifier\n",
        "from sklearn.linear_model import LogisticRegression\n",
        "from sklearn.svm import LinearSVC\n",
        "from sklearn.metrics import accuracy_score, classification_report\n",
        "from sklearn.model_selection import train_test_split\n",
        "from sklearn.naive_bayes import MultinomialNB"
      ]
    },
    {
      "cell_type": "markdown",
      "source": [
        "## Data Preprocessing"
      ],
      "metadata": {
        "id": "X7Iru6ej8cDA"
      }
    },
    {
      "cell_type": "code",
      "source": [
        "# Data Cleaning on the text for overall sentiment analysis\n",
        "def data_processing(text):\n",
        "    text= text.lower()\n",
        "    text = re.sub('<br />', '', text)\n",
        "    text = re.sub(r\"https\\S+|www\\S+|http\\S+\", '', text, flags = re.MULTILINE)\n",
        "    text = re.sub(r'\\@w+|\\#', '', text)\n",
        "    text = re.sub(r'[^\\w\\s]', '', text)\n",
        "    text_tokens = word_tokenize(text)\n",
        "    filtered_text = [w for w in text_tokens if not w in stop_words]\n",
        "    return \" \".join(filtered_text)\n",
        "\n",
        "\n",
        "# Data cleaning for aspect based sentiment analysis\n",
        "def data_processing_absa(text):\n",
        "    text = text.lower()\n",
        "    text = re.sub('<br />', '', text)\n",
        "    text = re.sub(r\"https\\S+|www\\S+|http\\S+\", '', text, flags = re.MULTILINE)\n",
        "    text = re.sub(r'\\@w+|\\#', '', text)\n",
        "    text = re.sub(r'\\\\','',text)\n",
        "    return text\n",
        "\n",
        "#Stemmatization of words\n",
        "stemmer = PorterStemmer()\n",
        "def stemming(data):\n",
        "    text = [stemmer.stem(word) for word in data]\n",
        "    return data"
      ],
      "metadata": {
        "id": "qRFF8QWI8eDZ"
      },
      "execution_count": 2,
      "outputs": []
    },
    {
      "cell_type": "markdown",
      "source": [
        "## To predict a review"
      ],
      "metadata": {
        "id": "vsYtznXK-KS_"
      }
    },
    {
      "cell_type": "code",
      "source": [
        "#getting the model\n",
        "import joblib\n",
        "model = joblib.load('LR_LSVC_NB.pkl')\n",
        "vect = joblib.load('tfidf_vectorizer.pkl')"
      ],
      "metadata": {
        "id": "ax5GtlFK91gI"
      },
      "execution_count": 3,
      "outputs": []
    },
    {
      "cell_type": "code",
      "source": [
        "#Overall sentiment analysis\n",
        "def get_overall_sentiment(review):\n",
        "    review = data_processing(review)\n",
        "    review = stemming(review)\n",
        "    review = vect.transform([review])\n",
        "    prediction = model.predict(review)[0]\n",
        "    sentiment_label = \"Positive\" if prediction == 1 else \"Negative\"\n",
        "    return sentiment_label"
      ],
      "metadata": {
        "id": "GAYYtA3h-fnm"
      },
      "execution_count": 4,
      "outputs": []
    },
    {
      "cell_type": "code",
      "source": [
        "review = \"\"\" The film's strong performances and witty dialogue made it a truly enjoyable experience. The well-paced storyline kept me engaged throughout, and the clever twists and turns added to the excitement. However, the lack of depth in the characters and the predictable ending were disappointing. Despite these minor shortcomings, the film is a fun and entertaining watch. \"\"\"\n",
        "print(get_overall_sentiment(review))"
      ],
      "metadata": {
        "colab": {
          "base_uri": "https://localhost:8080/"
        },
        "id": "OERYJJAY_FEy",
        "outputId": "0f8c4b4e-6aa8-434b-8315-57e7fa871148"
      },
      "execution_count": 5,
      "outputs": [
        {
          "output_type": "stream",
          "name": "stdout",
          "text": [
            "Positive\n"
          ]
        }
      ]
    },
    {
      "cell_type": "code",
      "source": [
        "review  = data_processing(review)\n",
        "review = stemming(review)\n",
        "print(review)"
      ],
      "metadata": {
        "colab": {
          "base_uri": "https://localhost:8080/"
        },
        "id": "KGcf1wZFqJt2",
        "outputId": "9a0044b8-3c13-44b3-82a6-ee101e5fc674"
      },
      "execution_count": 6,
      "outputs": [
        {
          "output_type": "stream",
          "name": "stdout",
          "text": [
            "films strong performances witty dialogue made truly enjoyable experience wellpaced storyline kept engaged throughout clever twists turns added excitement however lack depth characters predictable ending disappointing despite minor shortcomings film fun entertaining watch\n"
          ]
        }
      ]
    },
    {
      "cell_type": "markdown",
      "source": [
        "## The Aspect Dictionary"
      ],
      "metadata": {
        "id": "-DPT79bDJdQ0"
      }
    },
    {
      "cell_type": "code",
      "source": [
        "#aspects\n",
        "movie_aspects = {\n",
        "    \"acting\": [\"performances\", \"actors\", \"acting\", \"cast\", \"role\", \"character portrayal\",\"performance\",\n",
        "    \"portrayal\",\n",
        "    \"playing\",\n",
        "    \"depiction\",\n",
        "    \"characterization\",\n",
        "    \"enactment\",\n",
        "    \"rendition\",\n",
        "    \"interpretation\",\n",
        "    \"presentation\",\n",
        "    \"embodiment\",\n",
        "    \"realization\",\n",
        "    \"execution\",\n",
        "    \"delivery\",\n",
        "    \"projection\",\n",
        "    \"articulation\",\n",
        "    \"expression\",\n",
        "    \"conveying\",\n",
        "    \"communication\"],\n",
        "    \"direction\": [\"direction\", \"director\", \"filmmaking\", \"directing\", \"vision\",\n",
        "    \"helming\",\n",
        "    \"visual style\",\n",
        "    \"cinematography\",\n",
        "    \"pacing\",\n",
        "    \"rhythm\",\n",
        "    \"tone\",\n",
        "    \"atmosphere\",\n",
        "    \"mood\",\n",
        "    \"world-building\",\n",
        "    \"storytelling\",\n",
        "    \"narrative\",\n",
        "    \"craftsmanship\",\n",
        "    \"technical prowess\",\n",
        "    \"visionary\",\n",
        "    \"innovation\"],\n",
        "    \"plot\": [\"storyline\", \"plot\", \"narrative\", \"story\", \"screenplay\", \"script\", \"twist\",\"storyline\",\n",
        "    \"premise\",\n",
        "    \"concept\",\n",
        "    \"message\",\n",
        "    \"subtext\",\n",
        "    \"arc\",\n",
        "    \"journey\",\n",
        "    \"progression\",\n",
        "    \"development\",\n",
        "    \"resolution\",\n",
        "    \"climax\",\n",
        "    \"twist\",\n",
        "    \"turn\",\n",
        "    \"surprise\",\n",
        "    \"reveal\",\n",
        "    \"foreshadowing\",\n",
        "    \"pacing\",\n",
        "    \"tension\",\n",
        "    \"suspense\",\n",
        "    \"excitement\",\n",
        "    \"drama\",\n",
        "    \"comedy\",\n",
        "    \"romance\",\n",
        "    \"horror\",\n",
        "    \"sci-fi\",\n",
        "    \"fantasy\",\n",
        "    \"action\",\n",
        "    \"adventure\",\n",
        "    \"mystery\",\n",
        "    \"thriller\",\n",
        "    \"crime\",\n",
        "    \"historical\",\n",
        "    \"biographical\",\n",
        "    \"documentary\",\n",
        "    \"animated\",\n",
        "    \"formulaic\"],\n",
        "    \"cinematography\": [\"cinematography\", \"visuals\", \"camera work\", \"shots\", \"framing\", \"scenes\", \"filming\",\"cinematography\",\n",
        "    \"visual style\",\n",
        "    \"lighting\",\n",
        "    \"color palette\",\n",
        "    \"composition\",\n",
        "    \"framing\",\n",
        "    \"shot\",\n",
        "    \"angle\",\n",
        "    \"perspective\",\n",
        "    \"movement\",\n",
        "    \"camera work\",\n",
        "    \"lens\",\n",
        "    \"filter\",\n",
        "    \"texture\",\n",
        "    \"atmosphere\",\n",
        "    \"tone\",\n",
        "    \"realism\",\n",
        "    \"surrealism\",\n",
        "    \"expressionism\",\n",
        "    \"naturalism\",\n",
        "    \"stylization\",\n",
        "    \"classicism\",\n",
        "    \"modernism\",\n",
        "    \"postmodernism\",\n",
        "    \"dynamic\",\n",
        "    \"static\",\n",
        "    \"fluid\",\n",
        "    \"choppy\",\n",
        "    \"cinematic\",\n",
        "    \"filmic\",\n",
        "    \"photographic\",\n",
        "    \"painterly\"],\n",
        "    \"soundtrack\": [\"soundtrack\", \"music\", \"score\", \"songs\", \"background music\", \"sound effects\",\n",
        "    \"music\",\n",
        "    \"sound design\",\n",
        "    \"sound effects\",\n",
        "    \"audio\",\n",
        "    \"ambiance\",\n",
        "    \"original\",\n",
        "    \"classic\",\n",
        "    \"contemporary\"],\n",
        "    \"visual_effects\": [\"VFX\", \"CGI\", \"visual effects\", \"special effects\", \"animation\",\"computer graphics\",\n",
        "    \"digital effects\",\n",
        "    \"post-production\",\n",
        "    \"animation\",\n",
        "    \"motion graphics\",\n",
        "    \"matte painting\",\n",
        "    \"green screen\",\n",
        "    \"blue screen\",\n",
        "    \"compositing\",\n",
        "    \"rendering\",\n",
        "    \"modeling\",\n",
        "    \"texturing\",\n",
        "    \"animating\",\n",
        "    \"innovative\",\n",
        "    \"cutting-edge\",\n",
        "    \"photorealistic\",\n",
        "    \"cartoonish\"],\n",
        "    \"editing\": [\"editing\", \"pacing\", \"transitions\", \"cuts\",\"montage\",\n",
        "    \"cut\",\n",
        "    \"splice\",\n",
        "    \"transition\",\n",
        "    \"jump cut\",\n",
        "    \"parallel editing\",\n",
        "    \"flow\"],\n",
        "    \"dialogue\": [\"dialogue\", \"lines\", \"conversations\", \"quotes\", \"script\",\"script\",\n",
        "    \"screenplay\",\n",
        "    \"writing\",\n",
        "    \"wordplay\",\n",
        "    \"conversation\",\n",
        "    \"monologue\"],\n",
        "    \"set_design\": [\"set design\", \"production design\", \"sets\", \"locations\", \"scenery\",\"production design\",\n",
        "    \"art direction\",\n",
        "    \"scenery\",\n",
        "    \"period\",\n",
        "    \"era\",\n",
        "    \"place\",\n",
        "    \"location\",\n",
        "    \"environment\",\n",
        "    \"world-building\"],\n",
        "    \"costume_design\": [\"costumes\", \"wardrobe\", \"outfits\", \"clothing\", \"costume design\",\"wardrobe\",\n",
        "    \"costumes\",\n",
        "    \"clothing\",\n",
        "    \"apparel\",\n",
        "    \"attire\",\n",
        "    \"garments\",\n",
        "    \"dresses\",\n",
        "    \"suits\",\n",
        "    \"uniforms\",\n",
        "    \"accessories\",\n",
        "    \"jewelry\",\n",
        "    \"shoes\",\n",
        "    \"hats\",\n",
        "    \"makeup\",\n",
        "    \"hair\",\n",
        "    \"wigs\",\n",
        "    \"prosthetic makeup\"],\n",
        "    \"themes\": [\"themes\", \"message\", \"morals\", \"symbolism\",\"theme\",\n",
        "    \"messages\",\n",
        "    \"moral\",\n",
        "    \"lesson\",\n",
        "    \"idea\",\n",
        "    \"concept\",\n",
        "    \"subject\",\n",
        "    \"topic\",\n",
        "    \"issue\",\n",
        "    \"problem\",\n",
        "    \"conflict\"]\n",
        "}"
      ],
      "metadata": {
        "id": "vrK2k7rP_ad0"
      },
      "execution_count": 7,
      "outputs": []
    },
    {
      "cell_type": "markdown",
      "source": [
        "## Aspect Based Sentiment Analysis\n",
        "to predict the sentiment of the aspects in the reviews"
      ],
      "metadata": {
        "id": "n3it-YdeJwHa"
      }
    },
    {
      "cell_type": "code",
      "source": [
        "import nltk\n",
        "nltk.download('punkt')\n",
        "from nltk.tokenize import sent_tokenize\n",
        "\n",
        "#aspect identification from review\n",
        "def identify_aspects(review, aspect_dict):\n",
        "    identified_aspects = {}\n",
        "    for aspect, keywords in aspect_dict.items():\n",
        "        for keyword in keywords:\n",
        "            if keyword in review.lower():\n",
        "                if aspect not in identified_aspects:\n",
        "                    identified_aspects[aspect] = []\n",
        "                identified_aspects[aspect].append(keyword)\n",
        "    return identified_aspects.keys()\n",
        "\n",
        "# Function to split a review into sentences\n",
        "def split_into_sentences(review):\n",
        "    sentences = sent_tokenize(review)\n",
        "    return sentences"
      ],
      "metadata": {
        "colab": {
          "base_uri": "https://localhost:8080/"
        },
        "id": "txkLawe2Jnmx",
        "outputId": "6505cee9-d7b3-40cb-dd0f-5bcb7c8e611e"
      },
      "execution_count": 8,
      "outputs": [
        {
          "output_type": "stream",
          "name": "stderr",
          "text": [
            "[nltk_data] Downloading package punkt to /root/nltk_data...\n",
            "[nltk_data]   Package punkt is already up-to-date!\n"
          ]
        }
      ]
    },
    {
      "cell_type": "code",
      "source": [
        "# to get the sentences where the aspects have been found\n",
        "def get_aspect_sentences(review):\n",
        "    sentences = split_into_sentences(review)\n",
        "    aspect_sentences = {}\n",
        "\n",
        "    # Loop through each sentence\n",
        "    for sentence in sentences:\n",
        "        for aspect, keywords in movie_aspects.items():\n",
        "            for keyword in keywords:\n",
        "                # Check if keyword is in the sentence\n",
        "                if keyword in sentence.lower():\n",
        "                    if aspect not in aspect_sentences:\n",
        "                        aspect_sentences[aspect] = []\n",
        "                    aspect_sentences[aspect].append(sentence)\n",
        "\n",
        "    return aspect_sentences"
      ],
      "metadata": {
        "id": "J2vn1MqwJ9MC"
      },
      "execution_count": 9,
      "outputs": []
    },
    {
      "cell_type": "code",
      "source": [
        "# to get all the sentiments of the review entered\n",
        "def get_overall_sentiment_of_review(review):\n",
        "    clean_review = data_processing(review)\n",
        "    clean_review = stemming(clean_review)\n",
        "    clean_review_absa = data_processing_absa(review)\n",
        "    aspect_sentence_dict = get_aspect_sentences(clean_review_absa)\n",
        "    aspect_sentiments = {}\n",
        "    aspect_sentiment_results = []\n",
        "    sentiments = []\n",
        "\n",
        "    # Apply sentiment analysis for each aspect's sentence\n",
        "    for aspect, sentence in aspect_sentence_dict.items():\n",
        "        sentence_features = vect.transform(sentence)\n",
        "        sentiment_result = model.predict(sentence_features)[0]  # Get sentiment for the sentence\n",
        "        sentiment_label = \"positive\" if sentiment_result == 1 else \"negative\"\n",
        "        aspect_sentiments[aspect] = sentiment_label  # Store result as 'positive' or 'negative'\n",
        "    # Append aspect sentiments for the current review\n",
        "    aspect_sentiment_results.append(aspect_sentiments)\n",
        "    print(get_overall_sentiment(clean_review))\n",
        "    print(aspect_sentiment_results)"
      ],
      "metadata": {
        "id": "fMB65U_nL_Ay"
      },
      "execution_count": 10,
      "outputs": []
    },
    {
      "cell_type": "code",
      "source": [
        "get_overall_sentiment_of_review(review)"
      ],
      "metadata": {
        "colab": {
          "base_uri": "https://localhost:8080/"
        },
        "id": "yLOihg_HMgao",
        "outputId": "0478fda1-7a59-4822-886a-bdcc830fde5c"
      },
      "execution_count": 11,
      "outputs": [
        {
          "output_type": "stream",
          "name": "stdout",
          "text": [
            "Positive\n",
            "[{'acting': 'positive', 'plot': 'positive', 'dialogue': 'positive'}]\n"
          ]
        }
      ]
    },
    {
      "cell_type": "markdown",
      "source": [
        "## For the whole Dataset"
      ],
      "metadata": {
        "id": "SbwCuiCjNjCa"
      }
    },
    {
      "cell_type": "code",
      "source": [
        "# to get the sentiment of the aspects of the whole dataset\n",
        "def analyze_aspect_sentiments(df, aspect_sentences_col='sentences'):\n",
        "\n",
        "    # Initialize a list to store results for each review\n",
        "    aspect_sentiment_results = []\n",
        "\n",
        "    # Iterate over each row in the DataFrame\n",
        "    for aspect_sentence_dict in df[aspect_sentences_col]:\n",
        "        aspect_sentiments = {}\n",
        "\n",
        "        # Predict sentiment for each aspect's sentence\n",
        "        for aspect, sentence in aspect_sentence_dict.items():\n",
        "            # Predict sentiment\n",
        "            sentence_features = vect.transform(sentence)\n",
        "            sentiment_pred = model.predict(sentence_features)[0]\n",
        "            sentiment_label = \"positive\" if sentiment_pred == 1 else \"negative\"\n",
        "\n",
        "            # Store result in aspect_sentiments dictionary\n",
        "            aspect_sentiments[aspect] = sentiment_label\n",
        "\n",
        "        # Append aspect sentiments for the current review\n",
        "        aspect_sentiment_results.append(aspect_sentiments)\n",
        "\n",
        "    # Add results to DataFrame\n",
        "    df['aspect_sentiments'] = aspect_sentiment_results\n",
        "\n",
        "    return df"
      ],
      "metadata": {
        "id": "SckWxaUyMlYG"
      },
      "execution_count": 12,
      "outputs": []
    },
    {
      "cell_type": "code",
      "source": [
        "# to get analysis of whole dataset\n",
        "import matplotlib.pyplot as plt\n",
        "\n",
        "def get_analysis(df):\n",
        "  # Data Cleaning on the text for overall sentiment analysis\n",
        "  def data_processing(text):\n",
        "      text= text.lower()\n",
        "      text = re.sub('<br />', '', text)\n",
        "      text = re.sub(r\"https\\S+|www\\S+|http\\S+\", '', text, flags = re.MULTILINE)\n",
        "      text = re.sub(r'\\@w+|\\#', '', text)\n",
        "      text = re.sub(r'[^\\w\\s]', '', text)\n",
        "      text_tokens = word_tokenize(text)\n",
        "      filtered_text = [w for w in text_tokens if not w in stop_words]\n",
        "      return \" \".join(filtered_text)\n",
        "\n",
        "  # Data cleaning for aspect based sentiment analysis\n",
        "  def data_processing_absa(text):\n",
        "      text = text.lower()\n",
        "      text = re.sub('<br />', '', text)\n",
        "      text = re.sub(r\"https\\S+|www\\S+|http\\S+\", '', text, flags = re.MULTILINE)\n",
        "      text = re.sub(r'\\@w+|\\#', '', text)\n",
        "      text = re.sub(r'\\\\','',text)\n",
        "      return text\n",
        "\n",
        "  #Stemmatization of words\n",
        "  stemmer = PorterStemmer()\n",
        "  def stemming(data):\n",
        "      text = [stemmer.stem(word) for word in data]\n",
        "      return data\n",
        "\n",
        "  #Overall sentiment analysis\n",
        "  def get_overall_sentiment(review):\n",
        "      review = data_processing(review)\n",
        "      review = stemming(review)\n",
        "      review = vect.transform([review])\n",
        "      prediction = model.predict(review)[0]\n",
        "      sentiment_label = \"Positive\" if prediction == 1 else \"Negative\"\n",
        "      return sentiment_label\n",
        "\n",
        "  #aspect identification from review\n",
        "  def identify_aspects(review, aspect_dict):\n",
        "      identified_aspects = {}\n",
        "      for aspect, keywords in aspect_dict.items():\n",
        "          for keyword in keywords:\n",
        "              if keyword in review.lower():\n",
        "                  if aspect not in identified_aspects:\n",
        "                      identified_aspects[aspect] = []\n",
        "                  identified_aspects[aspect].append(keyword)\n",
        "      return identified_aspects.keys()\n",
        "\n",
        "  # Function to split a review into sentences\n",
        "  def split_into_sentences(review):\n",
        "      sentences = sent_tokenize(review)\n",
        "      return sentences\n",
        "\n",
        "  # to get the sentences where the aspects have been found\n",
        "  def get_aspect_sentences(review):\n",
        "      sentences = split_into_sentences(review)\n",
        "      aspect_sentences = {}\n",
        "\n",
        "      # Loop through each sentence\n",
        "      for sentence in sentences:\n",
        "          for aspect, keywords in movie_aspects.items():\n",
        "              for keyword in keywords:\n",
        "                  # Check if keyword is in the sentence\n",
        "                  if keyword in sentence.lower():\n",
        "                      if aspect not in aspect_sentences:\n",
        "                          aspect_sentences[aspect] = []\n",
        "                      aspect_sentences[aspect].append(sentence)\n",
        "\n",
        "      return aspect_sentences\n",
        "\n",
        "\n",
        "  # to get the sentiment of the aspects of the whole dataset\n",
        "  def analyze_aspect_sentiments(df, aspect_sentences_col='sentences'):\n",
        "\n",
        "      # Initialize a list to store results for each review\n",
        "      aspect_sentiment_results = []\n",
        "\n",
        "      # Iterate over each row in the DataFrame\n",
        "      for aspect_sentence_dict in df[aspect_sentences_col]:\n",
        "          aspect_sentiments = {}\n",
        "\n",
        "          # Predict sentiment for each aspect's sentence\n",
        "          for aspect, sentence in aspect_sentence_dict.items():\n",
        "              # Predict sentiment\n",
        "              sentence_features = vect.transform(sentence)\n",
        "              sentiment_pred = model.predict(sentence_features)[0]\n",
        "              sentiment_label = \"positive\" if sentiment_pred == 1 else \"negative\"\n",
        "\n",
        "              # Store result in aspect_sentiments dictionary\n",
        "              aspect_sentiments[aspect] = sentiment_label\n",
        "\n",
        "          # Append aspect sentiments for the current review\n",
        "          aspect_sentiment_results.append(aspect_sentiments)\n",
        "\n",
        "      # Add results to DataFrame\n",
        "      df['aspect_sentiments'] = aspect_sentiment_results\n",
        "\n",
        "      return df\n",
        "\n",
        "\n",
        "  df['cleaned_review'] = df['review'].apply(lambda x: data_processing(x))\n",
        "  df['cleaned_review_absa'] = df['review'].apply(lambda x: data_processing_absa(x))\n",
        "  df['overall_sentiment'] = df['cleaned_review'].apply(get_overall_sentiment)\n",
        "  df['sentences'] = df['cleaned_review_absa'].apply(get_aspect_sentences)\n",
        "  analyze_aspect_sentiments(df, aspect_sentences_col='sentences')\n",
        "\n",
        "  aspect_sentiments_df = df['aspect_sentiments'].apply(pd.Series).reset_index().melt(id_vars='index', value_name='sentiment', var_name='aspect').dropna()\n",
        "  aspect_sentiment_counts = aspect_sentiments_df.groupby(['aspect', 'sentiment']).size().unstack(fill_value=0)\n",
        "  aspect_sentiment_percentages = aspect_sentiment_counts.div(aspect_sentiment_counts.sum(axis=1), axis=0) * 100\n",
        "\n",
        "  aspect_sentiment_percentages.plot(kind='bar', stacked=True, color=['salmon', 'lightgreen'])\n",
        "  plt.title(\"Sentiment Trends by Aspect\")\n",
        "  plt.xlabel(\"Aspect\")\n",
        "  plt.ylabel(\"Sentiment Percentage\")\n",
        "  plt.legend(title=\"Sentiment\")\n",
        "  plt.show()\n",
        "\n",
        "  import seaborn as sns\n",
        "  plt.figure(figsize=(8, 6))\n",
        "  sns.heatmap(aspect_sentiment_percentages, annot=True, cmap=\"coolwarm\", cbar_kws={'label': 'Percentage'})\n",
        "  plt.title(\"Aspect Sentiment Heatmap\")\n",
        "  plt.xlabel(\"Sentiment\")\n",
        "  plt.ylabel(\"Aspect\")\n",
        "  plt.show()\n",
        "\n",
        "  sentiment_counts = df['overall_sentiment'].value_counts()\n",
        "\n",
        "  # Plot bar chart for overall sentiment\n",
        "  plt.figure(figsize=(6, 4))\n",
        "  sentiment_counts.plot(kind='bar', color=['lightgreen', 'salmon'])\n",
        "  plt.title('Sentiment Distribution')\n",
        "  plt.xlabel('Sentiment')\n",
        "  plt.ylabel('Count')\n",
        "  plt.xticks(rotation=0)\n",
        "  plt.show()\n"
      ],
      "metadata": {
        "id": "TYtRGpW2Nvqd"
      },
      "execution_count": 13,
      "outputs": []
    },
    {
      "cell_type": "code",
      "source": [
        "df = pd.read_csv('IMDB Dataset.csv', usecols= ['review'])\n",
        "df.head()"
      ],
      "metadata": {
        "colab": {
          "base_uri": "https://localhost:8080/",
          "height": 206
        },
        "id": "V60OQ004TqvL",
        "outputId": "ec9073df-31eb-498d-8941-1462bbcb96f0"
      },
      "execution_count": 14,
      "outputs": [
        {
          "output_type": "execute_result",
          "data": {
            "text/plain": [
              "                                              review\n",
              "0  One of the other reviewers has mentioned that ...\n",
              "1  A wonderful little production. <br /><br />The...\n",
              "2  I thought this was a wonderful way to spend ti...\n",
              "3  Basically there's a family where a little boy ...\n",
              "4  Petter Mattei's \"Love in the Time of Money\" is..."
            ],
            "text/html": [
              "\n",
              "  <div id=\"df-53786e48-a204-4fea-aee7-e1d7c752cbd6\" class=\"colab-df-container\">\n",
              "    <div>\n",
              "<style scoped>\n",
              "    .dataframe tbody tr th:only-of-type {\n",
              "        vertical-align: middle;\n",
              "    }\n",
              "\n",
              "    .dataframe tbody tr th {\n",
              "        vertical-align: top;\n",
              "    }\n",
              "\n",
              "    .dataframe thead th {\n",
              "        text-align: right;\n",
              "    }\n",
              "</style>\n",
              "<table border=\"1\" class=\"dataframe\">\n",
              "  <thead>\n",
              "    <tr style=\"text-align: right;\">\n",
              "      <th></th>\n",
              "      <th>review</th>\n",
              "    </tr>\n",
              "  </thead>\n",
              "  <tbody>\n",
              "    <tr>\n",
              "      <th>0</th>\n",
              "      <td>One of the other reviewers has mentioned that ...</td>\n",
              "    </tr>\n",
              "    <tr>\n",
              "      <th>1</th>\n",
              "      <td>A wonderful little production. &lt;br /&gt;&lt;br /&gt;The...</td>\n",
              "    </tr>\n",
              "    <tr>\n",
              "      <th>2</th>\n",
              "      <td>I thought this was a wonderful way to spend ti...</td>\n",
              "    </tr>\n",
              "    <tr>\n",
              "      <th>3</th>\n",
              "      <td>Basically there's a family where a little boy ...</td>\n",
              "    </tr>\n",
              "    <tr>\n",
              "      <th>4</th>\n",
              "      <td>Petter Mattei's \"Love in the Time of Money\" is...</td>\n",
              "    </tr>\n",
              "  </tbody>\n",
              "</table>\n",
              "</div>\n",
              "    <div class=\"colab-df-buttons\">\n",
              "\n",
              "  <div class=\"colab-df-container\">\n",
              "    <button class=\"colab-df-convert\" onclick=\"convertToInteractive('df-53786e48-a204-4fea-aee7-e1d7c752cbd6')\"\n",
              "            title=\"Convert this dataframe to an interactive table.\"\n",
              "            style=\"display:none;\">\n",
              "\n",
              "  <svg xmlns=\"http://www.w3.org/2000/svg\" height=\"24px\" viewBox=\"0 -960 960 960\">\n",
              "    <path d=\"M120-120v-720h720v720H120Zm60-500h600v-160H180v160Zm220 220h160v-160H400v160Zm0 220h160v-160H400v160ZM180-400h160v-160H180v160Zm440 0h160v-160H620v160ZM180-180h160v-160H180v160Zm440 0h160v-160H620v160Z\"/>\n",
              "  </svg>\n",
              "    </button>\n",
              "\n",
              "  <style>\n",
              "    .colab-df-container {\n",
              "      display:flex;\n",
              "      gap: 12px;\n",
              "    }\n",
              "\n",
              "    .colab-df-convert {\n",
              "      background-color: #E8F0FE;\n",
              "      border: none;\n",
              "      border-radius: 50%;\n",
              "      cursor: pointer;\n",
              "      display: none;\n",
              "      fill: #1967D2;\n",
              "      height: 32px;\n",
              "      padding: 0 0 0 0;\n",
              "      width: 32px;\n",
              "    }\n",
              "\n",
              "    .colab-df-convert:hover {\n",
              "      background-color: #E2EBFA;\n",
              "      box-shadow: 0px 1px 2px rgba(60, 64, 67, 0.3), 0px 1px 3px 1px rgba(60, 64, 67, 0.15);\n",
              "      fill: #174EA6;\n",
              "    }\n",
              "\n",
              "    .colab-df-buttons div {\n",
              "      margin-bottom: 4px;\n",
              "    }\n",
              "\n",
              "    [theme=dark] .colab-df-convert {\n",
              "      background-color: #3B4455;\n",
              "      fill: #D2E3FC;\n",
              "    }\n",
              "\n",
              "    [theme=dark] .colab-df-convert:hover {\n",
              "      background-color: #434B5C;\n",
              "      box-shadow: 0px 1px 3px 1px rgba(0, 0, 0, 0.15);\n",
              "      filter: drop-shadow(0px 1px 2px rgba(0, 0, 0, 0.3));\n",
              "      fill: #FFFFFF;\n",
              "    }\n",
              "  </style>\n",
              "\n",
              "    <script>\n",
              "      const buttonEl =\n",
              "        document.querySelector('#df-53786e48-a204-4fea-aee7-e1d7c752cbd6 button.colab-df-convert');\n",
              "      buttonEl.style.display =\n",
              "        google.colab.kernel.accessAllowed ? 'block' : 'none';\n",
              "\n",
              "      async function convertToInteractive(key) {\n",
              "        const element = document.querySelector('#df-53786e48-a204-4fea-aee7-e1d7c752cbd6');\n",
              "        const dataTable =\n",
              "          await google.colab.kernel.invokeFunction('convertToInteractive',\n",
              "                                                    [key], {});\n",
              "        if (!dataTable) return;\n",
              "\n",
              "        const docLinkHtml = 'Like what you see? Visit the ' +\n",
              "          '<a target=\"_blank\" href=https://colab.research.google.com/notebooks/data_table.ipynb>data table notebook</a>'\n",
              "          + ' to learn more about interactive tables.';\n",
              "        element.innerHTML = '';\n",
              "        dataTable['output_type'] = 'display_data';\n",
              "        await google.colab.output.renderOutput(dataTable, element);\n",
              "        const docLink = document.createElement('div');\n",
              "        docLink.innerHTML = docLinkHtml;\n",
              "        element.appendChild(docLink);\n",
              "      }\n",
              "    </script>\n",
              "  </div>\n",
              "\n",
              "\n",
              "<div id=\"df-b31ded45-6d78-47af-bea0-2b9c8fe947b1\">\n",
              "  <button class=\"colab-df-quickchart\" onclick=\"quickchart('df-b31ded45-6d78-47af-bea0-2b9c8fe947b1')\"\n",
              "            title=\"Suggest charts\"\n",
              "            style=\"display:none;\">\n",
              "\n",
              "<svg xmlns=\"http://www.w3.org/2000/svg\" height=\"24px\"viewBox=\"0 0 24 24\"\n",
              "     width=\"24px\">\n",
              "    <g>\n",
              "        <path d=\"M19 3H5c-1.1 0-2 .9-2 2v14c0 1.1.9 2 2 2h14c1.1 0 2-.9 2-2V5c0-1.1-.9-2-2-2zM9 17H7v-7h2v7zm4 0h-2V7h2v10zm4 0h-2v-4h2v4z\"/>\n",
              "    </g>\n",
              "</svg>\n",
              "  </button>\n",
              "\n",
              "<style>\n",
              "  .colab-df-quickchart {\n",
              "      --bg-color: #E8F0FE;\n",
              "      --fill-color: #1967D2;\n",
              "      --hover-bg-color: #E2EBFA;\n",
              "      --hover-fill-color: #174EA6;\n",
              "      --disabled-fill-color: #AAA;\n",
              "      --disabled-bg-color: #DDD;\n",
              "  }\n",
              "\n",
              "  [theme=dark] .colab-df-quickchart {\n",
              "      --bg-color: #3B4455;\n",
              "      --fill-color: #D2E3FC;\n",
              "      --hover-bg-color: #434B5C;\n",
              "      --hover-fill-color: #FFFFFF;\n",
              "      --disabled-bg-color: #3B4455;\n",
              "      --disabled-fill-color: #666;\n",
              "  }\n",
              "\n",
              "  .colab-df-quickchart {\n",
              "    background-color: var(--bg-color);\n",
              "    border: none;\n",
              "    border-radius: 50%;\n",
              "    cursor: pointer;\n",
              "    display: none;\n",
              "    fill: var(--fill-color);\n",
              "    height: 32px;\n",
              "    padding: 0;\n",
              "    width: 32px;\n",
              "  }\n",
              "\n",
              "  .colab-df-quickchart:hover {\n",
              "    background-color: var(--hover-bg-color);\n",
              "    box-shadow: 0 1px 2px rgba(60, 64, 67, 0.3), 0 1px 3px 1px rgba(60, 64, 67, 0.15);\n",
              "    fill: var(--button-hover-fill-color);\n",
              "  }\n",
              "\n",
              "  .colab-df-quickchart-complete:disabled,\n",
              "  .colab-df-quickchart-complete:disabled:hover {\n",
              "    background-color: var(--disabled-bg-color);\n",
              "    fill: var(--disabled-fill-color);\n",
              "    box-shadow: none;\n",
              "  }\n",
              "\n",
              "  .colab-df-spinner {\n",
              "    border: 2px solid var(--fill-color);\n",
              "    border-color: transparent;\n",
              "    border-bottom-color: var(--fill-color);\n",
              "    animation:\n",
              "      spin 1s steps(1) infinite;\n",
              "  }\n",
              "\n",
              "  @keyframes spin {\n",
              "    0% {\n",
              "      border-color: transparent;\n",
              "      border-bottom-color: var(--fill-color);\n",
              "      border-left-color: var(--fill-color);\n",
              "    }\n",
              "    20% {\n",
              "      border-color: transparent;\n",
              "      border-left-color: var(--fill-color);\n",
              "      border-top-color: var(--fill-color);\n",
              "    }\n",
              "    30% {\n",
              "      border-color: transparent;\n",
              "      border-left-color: var(--fill-color);\n",
              "      border-top-color: var(--fill-color);\n",
              "      border-right-color: var(--fill-color);\n",
              "    }\n",
              "    40% {\n",
              "      border-color: transparent;\n",
              "      border-right-color: var(--fill-color);\n",
              "      border-top-color: var(--fill-color);\n",
              "    }\n",
              "    60% {\n",
              "      border-color: transparent;\n",
              "      border-right-color: var(--fill-color);\n",
              "    }\n",
              "    80% {\n",
              "      border-color: transparent;\n",
              "      border-right-color: var(--fill-color);\n",
              "      border-bottom-color: var(--fill-color);\n",
              "    }\n",
              "    90% {\n",
              "      border-color: transparent;\n",
              "      border-bottom-color: var(--fill-color);\n",
              "    }\n",
              "  }\n",
              "</style>\n",
              "\n",
              "  <script>\n",
              "    async function quickchart(key) {\n",
              "      const quickchartButtonEl =\n",
              "        document.querySelector('#' + key + ' button');\n",
              "      quickchartButtonEl.disabled = true;  // To prevent multiple clicks.\n",
              "      quickchartButtonEl.classList.add('colab-df-spinner');\n",
              "      try {\n",
              "        const charts = await google.colab.kernel.invokeFunction(\n",
              "            'suggestCharts', [key], {});\n",
              "      } catch (error) {\n",
              "        console.error('Error during call to suggestCharts:', error);\n",
              "      }\n",
              "      quickchartButtonEl.classList.remove('colab-df-spinner');\n",
              "      quickchartButtonEl.classList.add('colab-df-quickchart-complete');\n",
              "    }\n",
              "    (() => {\n",
              "      let quickchartButtonEl =\n",
              "        document.querySelector('#df-b31ded45-6d78-47af-bea0-2b9c8fe947b1 button');\n",
              "      quickchartButtonEl.style.display =\n",
              "        google.colab.kernel.accessAllowed ? 'block' : 'none';\n",
              "    })();\n",
              "  </script>\n",
              "</div>\n",
              "\n",
              "    </div>\n",
              "  </div>\n"
            ],
            "application/vnd.google.colaboratory.intrinsic+json": {
              "type": "dataframe",
              "variable_name": "df",
              "summary": "{\n  \"name\": \"df\",\n  \"rows\": 50000,\n  \"fields\": [\n    {\n      \"column\": \"review\",\n      \"properties\": {\n        \"dtype\": \"string\",\n        \"num_unique_values\": 49582,\n        \"samples\": [\n          \"\\\"Soul Plane\\\" is a horrible attempt at comedy that only should appeal people with thick skulls, bloodshot eyes and furry pawns. <br /><br />The plot is not only incoherent but also non-existent, acting is mostly sub sub-par with a gang of highly moronic and dreadful characters thrown in for bad measure, jokes are often spotted miles ahead and almost never even a bit amusing. This movie lacks any structure and is full of racial stereotypes that must have seemed old even in the fifties, the only thing it really has going for it is some pretty ladies, but really, if you want that you can rent something from the \\\"Adult\\\" section. OK?<br /><br />I can hardly see anything here to recommend since you'll probably have a lot a better and productive time chasing rats with a sledgehammer or inventing waterproof teabags or whatever.<br /><br />2/10\",\n          \"Guest from the Future tells a fascinating story of time travel, friendship, battle of good and evil -- all with a small budget, child actors, and few special effects. Something for Spielberg and Lucas to learn from. ;) A sixth-grader Kolya \\\"Nick\\\" Gerasimov finds a time machine in the basement of a decrepit building and travels 100 years into the future. He discovers a near-perfect, utopian society where robots play guitars and write poetry, everyone is kind to each other and people enjoy everything technology has to offer. Alice is the daughter of a prominent scientist who invented a device called Mielophone that allows to read minds of humans and animals. The device can be put to both good and bad use, depending on whose hands it falls into. When two evil space pirates from Saturn who want to rule the universe attempt to steal Mielophone, it falls into the hands of 20th century school boy Nick. With the pirates hot on his tracks, he travels back to his time, followed by the pirates, and Alice. Chaos, confusion and funny situations follow as the luckless pirates try to blend in with the earthlings. Alice enrolls in the same school Nick goes to and demonstrates superhuman abilities in PE class. The catch is, Alice doesn't know what Nick looks like, while the pirates do. Also, the pirates are able to change their appearance and turn literally into anyone. (Hmm, I wonder if this is where James Cameron got the idea for Terminator...) Who gets to Nick -- and Mielophone -- first? Excellent plot, non-stop adventures, and great soundtrack. I wish Hollywood made kid movies like this one...\",\n          \"\\\"National Treasure\\\" (2004) is a thoroughly misguided hodge-podge of plot entanglements that borrow from nearly every cloak and dagger government conspiracy clich\\u00e9 that has ever been written. The film stars Nicholas Cage as Benjamin Franklin Gates (how precious is that, I ask you?); a seemingly normal fellow who, for no other reason than being of a lineage of like-minded misguided fortune hunters, decides to steal a 'national treasure' that has been hidden by the United States founding fathers. After a bit of subtext and background that plays laughably (unintentionally) like Indiana Jones meets The Patriot, the film degenerates into one misguided whimsy after another \\u0096 attempting to create a 'Stanley Goodspeed' regurgitation of Nicholas Cage and launch the whole convoluted mess forward with a series of high octane, but disconnected misadventures.<br /><br />The relevancy and logic to having George Washington and his motley crew of patriots burying a king's ransom someplace on native soil, and then, going through the meticulous plan of leaving clues scattered throughout U.S. currency art work, is something that director Jon Turteltaub never quite gets around to explaining. Couldn't Washington found better usage for such wealth during the start up of the country? Hence, we are left with a mystery built on top of an enigma that is already on shaky ground by the time Ben appoints himself the new custodian of this untold wealth. Ben's intentions are noble \\u0096 if confusing. He's set on protecting the treasure. For who and when?\\u0085your guess is as good as mine.<br /><br />But there are a few problems with Ben's crusade. First up, his friend, Ian Holmes (Sean Bean) decides that he can't wait for Ben to make up his mind about stealing the Declaration of Independence from the National Archives (oh, yeah \\u0096 brilliant idea!). Presumably, the back of that famous document holds the secret answer to the ultimate fortune. So Ian tries to kill Ben. The assassination attempt is, of course, unsuccessful, if overly melodramatic. It also affords Ben the opportunity to pick up, and pick on, the very sultry curator of the archives, Abigail Chase (Diane Kruger). She thinks Ben is clearly a nut \\u0096 at least at the beginning. But true to action/romance form, Abby's resolve melts quicker than you can say, \\\"is that the Hope Diamond?\\\" The film moves into full X-File-ish mode, as the FBI, mistakenly believing that Ben is behind the theft, retaliate in various benign ways that lead to a multi-layering of action sequences reminiscent of Mission Impossible meets The Fugitive. Honestly, don't those guys ever get 'intelligence' information that is correct? In the final analysis, \\\"National Treasure\\\" isn't great film making, so much as it's a patchwork rehash of tired old bits from other movies, woven together from scraps, the likes of which would make IL' Betsy Ross blush.<br /><br />The Buena Vista DVD delivers a far more generous treatment than this film is deserving of. The anamorphic widescreen picture exhibits a very smooth and finely detailed image with very rich colors, natural flesh tones, solid blacks and clean whites. The stylized image is also free of blemishes and digital enhancements. The audio is 5.1 and delivers a nice sonic boom to your side and rear speakers with intensity and realism. Extras include a host of promotional junket material that is rather deep and over the top in its explanation of how and why this film was made. If only, as an audience, we had had more clarification as to why Ben and co. were chasing after an illusive treasure, this might have been one good flick. Extras conclude with the theatrical trailer, audio commentary and deleted scenes. Not for the faint-hearted \\u0096 just the thick-headed.\"\n        ],\n        \"semantic_type\": \"\",\n        \"description\": \"\"\n      }\n    }\n  ]\n}"
            }
          },
          "metadata": {},
          "execution_count": 14
        }
      ]
    },
    {
      "cell_type": "code",
      "source": [
        "get_analysis(df)"
      ],
      "metadata": {
        "colab": {
          "base_uri": "https://localhost:8080/",
          "height": 1000
        },
        "id": "GGpFbdxJUDTc",
        "outputId": "c9c363d3-3f75-4f74-c0e3-38abf2148b77"
      },
      "execution_count": 15,
      "outputs": [
        {
          "output_type": "display_data",
          "data": {
            "text/plain": [
              "<Figure size 640x480 with 1 Axes>"
            ],
            "image/png": "[encoded data removed]"
          },
          "metadata": {}
        },
        {
          "output_type": "display_data",
          "data": {
            "text/plain": [
              "<Figure size 800x600 with 2 Axes>"
            ],
            "image/png": "[encoded data removed]"
          },
          "metadata": {}
        },
        {
          "output_type": "display_data",
          "data": {
            "text/plain": [
              "<Figure size 600x400 with 1 Axes>"
            ],
            "image/png": "[encoded data removed]"
          },
          "metadata": {}
        }
      ]
    },
    {
      "cell_type": "code",
      "source": [
        "review = \"\"\" A rollercoaster of emotions! The actors gave phenomenal performances, and the story was truly heartwarming \"\"\"\n",
        "print(get_overall_sentiment(review))"
      ],
      "metadata": {
        "id": "mMWF7sYeVYkL",
        "colab": {
          "base_uri": "https://localhost:8080/"
        },
        "outputId": "97f77810-2859-424f-c9e5-448cdc26853d"
      },
      "execution_count": 16,
      "outputs": [
        {
          "output_type": "stream",
          "name": "stdout",
          "text": [
            "Positive\n"
          ]
        }
      ]
    },
    {
      "cell_type": "code",
      "source": [
        "review = \"\"\" Terrible experience. The jokes didn’t land, the acting was subpar, and the entire movie felt like a waste of time \"\"\"\n",
        "print(get_overall_sentiment(review))"
      ],
      "metadata": {
        "colab": {
          "base_uri": "https://localhost:8080/"
        },
        "id": "nst7_MLZ3pP6",
        "outputId": "1efce6dc-8ccf-45d8-ae4a-a41a3eb8cca3"
      },
      "execution_count": 17,
      "outputs": [
        {
          "output_type": "stream",
          "name": "stdout",
          "text": [
            "Negative\n"
          ]
        }
      ]
    },
    {
      "cell_type": "code",
      "source": [
        "review  = data_processing(review)\n",
        "review = stemming(review)\n",
        "print(review)"
      ],
      "metadata": {
        "colab": {
          "base_uri": "https://localhost:8080/"
        },
        "id": "23QuxskshH-L",
        "outputId": "0405a710-5908-43a5-c888-d8c07e8a5057"
      },
      "execution_count": 18,
      "outputs": [
        {
          "output_type": "stream",
          "name": "stdout",
          "text": [
            "terrible experience jokes didnt land acting subpar entire movie felt like waste time\n"
          ]
        }
      ]
    },
    {
      "cell_type": "code",
      "source": [
        "get_overall_sentiment_of_review(review)"
      ],
      "metadata": {
        "colab": {
          "base_uri": "https://localhost:8080/"
        },
        "id": "NS-g5Le8WuNL",
        "outputId": "f43c6897-8f4f-454f-b72a-590c07d2c82a"
      },
      "execution_count": 19,
      "outputs": [
        {
          "output_type": "stream",
          "name": "stdout",
          "text": [
            "Negative\n",
            "[{'acting': 'negative'}]\n"
          ]
        }
      ]
    },
    {
      "cell_type": "code",
      "source": [],
      "metadata": {
        "id": "Ct2vA6Y7WxLb"
      },
      "execution_count": 19,
      "outputs": []
    },
    {
      "cell_type": "code",
      "source": [],
      "metadata": {
        "id": "CKYNph56jXPQ"
      },
      "execution_count": 19,
      "outputs": []
    }
  ]
}